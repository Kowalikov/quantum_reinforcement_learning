{
 "cells": [
  {
   "cell_type": "markdown",
   "metadata": {},
   "source": [
    "# Splątanie kwantowe w uczeniu maszynowym"
   ]
  },
  {
   "cell_type": "markdown",
   "metadata": {},
   "source": [
    "## Variational Quantum Circuit\n",
    "W kwantowym podejściu używamy wariacyjnego obwodu kwantowego (_Variational Quantum Circuit, VQC_), którym zastępujemy sieć neuronową.\n",
    "\n",
    "Jest to rodzaj obwodu kwantowego z możliwymi do manipulowania (klasycznymi) parametrami. Podobnie jak sieci neuronowe VQC mogą aproksymować dowolne funkcje czy klasyfikatory. \n",
    "\n",
    "Przypomnijmy, że naszym zadaniem jest mając dany stan (miejsce na planszy w którym znajduje się nasz agent) zklasyfikować odpowiadający mu najlepszy możliwy ruch.\n",
    "\n",
    "> Poniższa implementacja zaczerpnięta została z \n",
    "\n",
    "> [S. Y.-C. Chen, C.-H. H. Yang, J. Qi, P.-Y. Chen, X. Ma and H.-S. Goan, *\"Variational Quantum Circuits for Deep Reinforcement Learning\"*, 2019](https://arxiv.org/abs/1907.00397)"
   ]
  },
  {
   "cell_type": "markdown",
   "metadata": {},
   "source": [
    "### Kodowanie stanu\n",
    "Plansza zawiera 16 możliwych stanów (0-15), odpowiada to 4 bitom (0000-1111),\n",
    "$$ b_1 b_2 b_3 b_4 $$\n",
    "\n",
    " i ekwiwalentnie 4 qubitom\n",
    "\n",
    "$$ \\ket{b_1} \\otimes \\ket{b_2} \\otimes \\ket{b_3} \\otimes \\ket{b_4} $$\n",
    "\n",
    "> Przykładowo, jeśli jesteśmy w stanie nr 13, w reprezentacji bitowej będzie to\n",
    "> $$ 1101 $$\n",
    "> a na qubitach:\n",
    "> $$ \\ket{1} \\otimes \\ket{1} \\otimes \\ket{0} \\otimes \\ket{1} $$\n"
   ]
  },
  {
   "cell_type": "markdown",
   "metadata": {},
   "source": [
    "Ostatecznie reprezentacja kwantowa stanu jest kodowana w następujący sposób:\n",
    "![Kodowanie stanu](\\assets\\kodowanie.jpg)"
   ]
  },
  {
   "cell_type": "markdown",
   "metadata": {},
   "source": [
    "## Warstwy\n",
    "Na zakodowany już stan działamy następnie warstwami:\n",
    "\n",
    "![Warstwa 1](assets\\layer_1.jpg)\n"
   ]
  },
  {
   "cell_type": "markdown",
   "metadata": {},
   "source": [
    "\n",
    "Na początku splątujemy qubity ze sobą za pomocą bramek *CNOT*, a następnie wykonujemy rotację wokół osi *x*, *y* oraz *z* zgodnie ze wzorem:\n",
    "$$ R(\\alpha_i, \\beta_i, \\gamma_i) = R_x(\\alpha_i) R_y(\\beta_i) R_z(\\gamma_i) $$\n",
    "\n",
    "$\\alpha$, $\\beta$ oraz $\\gamma$ są naszymi parametrami, które staramy się dobrać, *\"nauczyć\"* nasz układ prawidłowego przejścia planszy. Tzn to po nich liczymy gradient i je optymalizujemy.\n"
   ]
  },
  {
   "cell_type": "markdown",
   "metadata": {},
   "source": [
    "Na koniec dokonujemy pomiaru i na jego podstawie wykonujemy ruch. Cały obwód wygląda następująco\n",
    "![Cały obwod](assets\\circuit.jpg)\n",
    "$ \\theta_i, \\phi_i$ - parametry kodujące stan wejściowy;\n",
    "\n",
    "$\\alpha_i, \\beta_i, \\gamma_i$ - parametry które są optymalizowane"
   ]
  },
  {
   "cell_type": "markdown",
   "metadata": {},
   "source": [
    "### linki\n",
    "[S. Y.-C. Chen, C.-H. H. Yang, J. Qi, P.-Y. Chen, X. Ma and H.-S. Goan, *\"Variational Quantum Circuits for Deep Reinforcement Learning\"*, 2019](https://arxiv.org/abs/1907.00397)\n",
    "\n",
    "[Pennylane - VQC](https://pennylane.ai/qml/glossary/variational_circuit.html)"
   ]
  }
 ],
 "metadata": {
  "kernelspec": {
   "display_name": "Python 3",
   "language": "python",
   "name": "python3"
  },
  "language_info": {
   "codemirror_mode": {
    "name": "ipython",
    "version": 3
   },
   "file_extension": ".py",
   "mimetype": "text/x-python",
   "name": "python",
   "nbconvert_exporter": "python",
   "pygments_lexer": "ipython3",
   "version": "3.8.10"
  }
 },
 "nbformat": 4,
 "nbformat_minor": 4
}
